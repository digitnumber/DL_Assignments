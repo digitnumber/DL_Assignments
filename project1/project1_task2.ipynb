{
 "cells": [
  {
   "cell_type": "code",
   "execution_count": 1,
   "metadata": {
    "collapsed": true
   },
   "outputs": [],
   "source": [
    "import tensorflow as tf\n",
    "import numpy as np\n",
    "from tensorflow.examples.tutorials.mnist import input_data\n",
    "import matplotlib.pyplot as plt"
   ]
  },
  {
   "cell_type": "code",
   "execution_count": 2,
   "metadata": {},
   "outputs": [
    {
     "name": "stdout",
     "output_type": "stream",
     "text": [
      "Extracting ./MNIST_data/train-images-idx3-ubyte.gz\n",
      "Extracting ./MNIST_data/train-labels-idx1-ubyte.gz\n",
      "Extracting ./MNIST_data/t10k-images-idx3-ubyte.gz\n",
      "Extracting ./MNIST_data/t10k-labels-idx1-ubyte.gz\n"
     ]
    }
   ],
   "source": [
    "mnist = input_data.read_data_sets('./MNIST_data', one_hot=False)\n",
    "sess = tf.InteractiveSession()\n",
    "x = tf.placeholder(tf.float32, shape=[None, 784])\n",
    "y_ = tf.placeholder(tf.int64, shape=[None])\n",
    "keep_prob = tf.placeholder(tf.float32, shape=[])\n",
    "batch_size = 100"
   ]
  },
  {
   "cell_type": "markdown",
   "metadata": {},
   "source": [
    "# Computation graph for classifier on 9 classes and for classifier on 10 classes\n",
    "\n",
    "Firstly, I trained a classifier on 9 digits: {0,1,2,3,..,8} until test accuracy of 98.5% was achieved.\n",
    "Then I applied a transfer learning by training only the output layer for classification task on 10 digits."
   ]
  },
  {
   "cell_type": "code",
   "execution_count": 3,
   "metadata": {
    "collapsed": true
   },
   "outputs": [],
   "source": [
    "# ------------------------------------------------------\n",
    "# Parameters and optimization function for classification on 9 classes\n",
    "# ------------------------------------------------------\n",
    "\n",
    "# Convolutional layer\n",
    "x_image = tf.reshape(x, [-1,28,28,1])\n",
    "W_conv = tf.Variable(tf.truncated_normal([5, 5, 1, 30], stddev=0.1))\n",
    "b_conv = tf.Variable(tf.constant(0.1, shape=[30]))\n",
    "h_conv = tf.nn.conv2d(x_image, W_conv, strides=[1, 1, 1, 1], padding='VALID')\n",
    "h_relu = tf.nn.relu(h_conv + b_conv)\n",
    "h_pool = tf.nn.max_pool(h_relu, ksize=[1, 2, 2, 1], strides=[1, 2, 2, 1], \\\n",
    "                        padding='SAME')\n",
    "h_pool = tf.nn.dropout(h_pool, keep_prob)\n",
    "\n",
    "# Fully-connected layer\n",
    "W_fc1 = tf.Variable(tf.truncated_normal([12 * 12 * 30, 500], stddev=0.1))\n",
    "b_fc1 = tf.Variable(tf.constant(0.1, shape=[500]))\n",
    "h_pool_flat = tf.reshape(h_pool, [-1, 12*12*30])\n",
    "h_fc1 = tf.nn.relu(tf.matmul(h_pool_flat, W_fc1) + b_fc1)\n",
    "h_fc1 = tf.nn.dropout(h_fc1, keep_prob)\n",
    "\n",
    "# Output layer for 9 classes\n",
    "W_fc2 = tf.Variable(tf.truncated_normal([500, 9], stddev=0.1))\n",
    "b_fc2 = tf.Variable(tf.constant(0.1, shape=[9]))\n",
    "logits = tf.matmul(h_fc1, W_fc2) + b_fc2\n",
    "y_hat=tf.nn.softmax(logits)\n",
    "\n",
    "# Train and Evaluate the Model for 9 classes\n",
    "cross_entropy = tf.nn.sparse_softmax_cross_entropy_with_logits\\\n",
    "                            (logits=logits, labels=y_)\n",
    "l2 = 0.001* tf.reduce_mean([tf.reduce_mean(tf.nn.l2_loss(W_conv))\\\n",
    "                            , tf.reduce_mean(tf.nn.l2_loss(W_fc1)), \\\n",
    "                            tf.reduce_mean(tf.nn.l2_loss(W_fc2))])\n",
    "loss = cross_entropy+l2\n",
    "train_step = tf.train.AdamOptimizer(1e-4).minimize(loss)\n",
    "correct_prediction = tf.equal(tf.argmax(y_hat,1), y_)\n",
    "accuracy = tf.reduce_mean(tf.cast(correct_prediction, tf.float32))\n",
    "\n",
    "\n",
    "# ------------------------------------------------------\n",
    "# Transfer learning parameters and optimization function \n",
    "# for classification on 10 classes\n",
    "# ------------------------------------------------------\n",
    "\n",
    "# Output layer for 10 classes\n",
    "W_fc2_10 = tf.Variable(tf.truncated_normal([500, 10], stddev=0.1))\n",
    "b_fc2_10 = tf.Variable(tf.constant(0.1, shape=[10]))\n",
    "logits_10 = tf.matmul(h_fc1, W_fc2_10) + b_fc2_10\n",
    "y_hat_10 =tf.nn.softmax(logits_10)\n",
    "\n",
    "# Train and Evaluate the Model for 10 classes\n",
    "cross_entropy_10 = tf.nn.sparse_softmax_cross_entropy_with_logits\\\n",
    "(logits=logits_10, labels=y_)\n",
    "l2_10 = 0.001* tf.reduce_mean([tf.reduce_mean(tf.nn.l2_loss(W_fc2_10))])\n",
    "loss_10 = cross_entropy_10+l2_10\n",
    "train_step_10 = tf.train.AdamOptimizer(1e-4).minimize(loss_10, \\\n",
    "                                        var_list=[W_fc2_10, b_fc2_10])\n",
    "correct_prediction_10 = tf.equal(tf.argmax(y_hat_10,1), y_)\n",
    "accuracy_10 = tf.reduce_mean(tf.cast(correct_prediction_10, tf.float32))"
   ]
  },
  {
   "cell_type": "markdown",
   "metadata": {},
   "source": [
    "# Filter train/valid/test dataset to include all digits except \"9\""
   ]
  },
  {
   "cell_type": "code",
   "execution_count": null,
   "metadata": {
    "collapsed": true
   },
   "outputs": [],
   "source": [
    "train_l = mnist.train.labels[np.where(mnist.train.labels!=9)]\n",
    "train_i = mnist.train.images[np.where(mnist.train.labels!=9)]\n",
    "val_l = mnist.validation.labels[np.where(mnist.validation.labels!=9)]\n",
    "val_i = mnist.validation.images[np.where(mnist.validation.labels!=9)]\n",
    "test_l = mnist.test.labels[np.where(mnist.test.labels!=9)]\n",
    "test_i = mnist.test.images[np.where(mnist.test.labels!=9)]\n",
    "sess.run(tf.global_variables_initializer())"
   ]
  },
  {
   "cell_type": "code",
   "execution_count": 10,
   "metadata": {},
   "outputs": [
    {
     "data": {
      "image/png": "[encoded data removed]",
      "text/plain": [
       "<matplotlib.figure.Figure at 0x7f8f204ce250>"
      ]
     },
     "metadata": {},
     "output_type": "display_data"
    },
    {
     "name": "stdout",
     "output_type": "stream",
     "text": [
      "[6 7 1 6 2 0 6 6 2 1 1 2 1 3 1 5 2 7 8 0 1 0 2 8 0 2 7 3 7 5 5 1 8 2 2 6 1\n",
      " 8 7 4 0 6 0 7 3 1 0 6 6 0 3 4 6 7 8 7 3 0 0 4 0 2 6 7 5 4 6 4 8 2 0 8 7 1\n",
      " 7 5 1 1 2 2 7 5 6 6 7 4 2 3 0 2 0 0 4 3 4 7 7 0 3 6]\n"
     ]
    }
   ],
   "source": [
    "#print('sample of new dataset without digit \"9\"')\n",
    "for i in range(10):\n",
    "    for j in range(10):\n",
    "        img=train_i[200+i*10+j]\n",
    "        img.shape=(28,28)\n",
    "        plt.subplot(10,10,i*10+j+1)\n",
    "        plt.imshow(img,cmap='gray')\n",
    "        plt.axis('off')\n",
    "plt.show()\n",
    "print(train_l[200:200+100])"
   ]
  },
  {
   "cell_type": "code",
   "execution_count": 5,
   "metadata": {
    "collapsed": true
   },
   "outputs": [],
   "source": [
    "n_train = train_i.shape[0]\n",
    "batches = zip(range(0, n_train-batch_size, batch_size), \\\n",
    "              range(batch_size, n_train, batch_size))\n",
    "batches = [(start, end) for start, end in batches]"
   ]
  },
  {
   "cell_type": "markdown",
   "metadata": {},
   "source": [
    "# Train classifier on 9 classes"
   ]
  },
  {
   "cell_type": "code",
   "execution_count": 6,
   "metadata": {},
   "outputs": [
    {
     "name": "stdout",
     "output_type": "stream",
     "text": [
      "=================================\n",
      "|    Training for 9 classes      |\n",
      "|Epoch\tBatch\t|Train\t|Val\t|\n",
      "|===============================|\n",
      "|1\t|50\t|0.7800\t|0.7465\t|\n",
      "|1\t|100\t|0.7300\t|0.8442\t|\n",
      "|1\t|150\t|0.8800\t|0.8766\t|\n",
      "|1\t|200\t|0.8400\t|0.9019\t|\n",
      "|1\t|250\t|0.8900\t|0.9074\t|\n",
      "|1\t|300\t|0.9600\t|0.9121\t|\n",
      "|1\t|350\t|0.8900\t|0.9190\t|\n",
      "|1\t|400\t|0.9700\t|0.9203\t|\n",
      "|1\t|450\t|0.8400\t|0.9272\t|\n",
      "|2\t|50\t|0.9800\t|0.9307\t|\n",
      "|2\t|100\t|0.8800\t|0.9310\t|\n",
      "|2\t|150\t|0.9500\t|0.9390\t|\n",
      "|2\t|200\t|0.8900\t|0.9438\t|\n",
      "|2\t|250\t|0.9300\t|0.9467\t|\n",
      "|2\t|300\t|0.9600\t|0.9476\t|\n",
      "|2\t|350\t|0.9300\t|0.9514\t|\n",
      "|2\t|400\t|0.9800\t|0.9523\t|\n",
      "|2\t|450\t|0.9200\t|0.9525\t|\n",
      "|3\t|50\t|0.9800\t|0.9578\t|\n",
      "|3\t|100\t|0.9100\t|0.9572\t|\n",
      "|3\t|150\t|0.9500\t|0.9607\t|\n",
      "|3\t|200\t|0.9200\t|0.9640\t|\n",
      "|3\t|250\t|0.9700\t|0.9647\t|\n",
      "|3\t|300\t|0.9900\t|0.9636\t|\n",
      "|3\t|350\t|0.9500\t|0.9651\t|\n",
      "|3\t|400\t|0.9900\t|0.9636\t|\n",
      "|3\t|450\t|0.9600\t|0.9685\t|\n",
      "|4\t|50\t|1.0000\t|0.9689\t|\n",
      "|4\t|100\t|0.9400\t|0.9698\t|\n",
      "|4\t|150\t|0.9600\t|0.9714\t|\n",
      "|4\t|200\t|0.9400\t|0.9711\t|\n",
      "|4\t|250\t|0.9700\t|0.9703\t|\n",
      "|4\t|300\t|0.9900\t|0.9711\t|\n",
      "|4\t|350\t|0.9600\t|0.9723\t|\n",
      "|4\t|400\t|0.9900\t|0.9716\t|\n",
      "|4\t|450\t|0.9700\t|0.9731\t|\n",
      "|5\t|50\t|1.0000\t|0.9729\t|\n",
      "|5\t|100\t|0.9700\t|0.9758\t|\n",
      "|5\t|150\t|0.9600\t|0.9756\t|\n",
      "|5\t|200\t|0.9500\t|0.9758\t|\n",
      "|5\t|250\t|0.9700\t|0.9754\t|\n",
      "|5\t|300\t|0.9800\t|0.9758\t|\n",
      "|5\t|350\t|0.9700\t|0.9769\t|\n",
      "|5\t|400\t|0.9900\t|0.9771\t|\n",
      "|5\t|450\t|0.9700\t|0.9778\t|\n",
      "|6\t|50\t|1.0000\t|0.9778\t|\n",
      "|6\t|100\t|0.9700\t|0.9796\t|\n",
      "|6\t|150\t|0.9600\t|0.9798\t|\n",
      "|6\t|200\t|0.9600\t|0.9800\t|\n",
      "|6\t|250\t|0.9800\t|0.9796\t|\n",
      "|6\t|300\t|0.9900\t|0.9800\t|\n",
      "|6\t|350\t|0.9800\t|0.9816\t|\n",
      "|6\t|400\t|0.9900\t|0.9789\t|\n",
      "|6\t|450\t|0.9900\t|0.9811\t|\n",
      "|7\t|50\t|1.0000\t|0.9811\t|\n",
      "|7\t|100\t|0.9800\t|0.9818\t|\n",
      "|7\t|150\t|0.9600\t|0.9836\t|\n",
      "|7\t|200\t|0.9800\t|0.9831\t|\n",
      "|7\t|250\t|0.9800\t|0.9834\t|\n",
      "|7\t|300\t|0.9900\t|0.9820\t|\n",
      "|7\t|350\t|0.9800\t|0.9840\t|\n",
      "|7\t|400\t|0.9900\t|0.9834\t|\n",
      "|7\t|450\t|0.9900\t|0.9838\t|\n",
      "|8\t|50\t|1.0000\t|0.9829\t|\n",
      "|8\t|100\t|0.9800\t|0.9834\t|\n",
      "|8\t|150\t|0.9600\t|0.9851\t|\n",
      "|8\t|200\t|0.9800\t|0.9849\t|\n",
      "|8\t|250\t|0.9800\t|0.9851\t|\n",
      "|8\t|300\t|1.0000\t|0.9840\t|\n",
      "|8\t|350\t|0.9900\t|0.9851\t|\n",
      "|8\t|400\t|0.9900\t|0.9853\t|\n",
      "|8\t|450\t|0.9900\t|0.9849\t|\n",
      "|9\t|50\t|1.0000\t|0.9847\t|\n",
      "|9\t|100\t|1.0000\t|0.9858\t|\n",
      "|9\t|150\t|0.9700\t|0.9856\t|\n",
      "|9\t|200\t|0.9900\t|0.9851\t|\n",
      "|9\t|250\t|0.9800\t|0.9873\t|\n",
      "|9\t|300\t|1.0000\t|0.9853\t|\n",
      "|9\t|350\t|0.9900\t|0.9865\t|\n",
      "|9\t|400\t|1.0000\t|0.9853\t|\n",
      "|9\t|450\t|1.0000\t|0.9858\t|\n",
      "|10\t|50\t|1.0000\t|0.9869\t|\n",
      "|10\t|100\t|1.0000\t|0.9862\t|\n",
      "|10\t|150\t|0.9700\t|0.9867\t|\n",
      "|10\t|200\t|0.9900\t|0.9869\t|\n",
      "|10\t|250\t|0.9800\t|0.9871\t|\n",
      "|10\t|300\t|1.0000\t|0.9860\t|\n",
      "|10\t|350\t|0.9900\t|0.9862\t|\n",
      "|10\t|400\t|1.0000\t|0.9853\t|\n",
      "|10\t|450\t|0.9900\t|0.9871\t|\n",
      "|===============================|\n",
      "test accuracy=0.9857\n"
     ]
    }
   ],
   "source": [
    "print(\"=================================\")\n",
    "print(\"|    Training for 9 classes     |\")\n",
    "print(\"|Epoch\\tBatch\\t|Train\\t|Val\\t|\")\n",
    "print(\"|===============================|\")\n",
    "for j in range(10):\n",
    "    for i, inds in enumerate(batches):\n",
    "        start, end = inds\n",
    "        batch_i = train_i[start:end]\n",
    "        batch_l = train_l[start:end]\n",
    "        train_step.run(feed_dict={x: batch_i, y_: batch_l, keep_prob:0.7})\n",
    "        if i%50 == 49:\n",
    "            train_accuracy = accuracy.eval(feed_dict={x:batch_i,\\\n",
    "                                                y_: batch_l, keep_prob:1})\n",
    "            val_accuracy = accuracy.eval(feed_dict=\\\n",
    "                {x: val_i, y_:val_l, keep_prob:1})\n",
    "            print(\"|%d\\t|%d\\t|%.4f\\t|%.4f\\t|\"%(j+1, i+1, \\\n",
    "                                            train_accuracy, val_accuracy))\n",
    "print(\"|===============================|\")\n",
    "test_accuracy = accuracy.eval(feed_dict=\\\n",
    "    {x: test_i, y_:test_l, keep_prob:1})\n",
    "print(\"test accuracy=%.4f\"%(test_accuracy))"
   ]
  },
  {
   "cell_type": "code",
   "execution_count": 7,
   "metadata": {},
   "outputs": [
    {
     "name": "stdout",
     "output_type": "stream",
     "text": [
      "[ 0.10030927  0.10443749  0.10152442  0.10139924  0.09753661  0.09999468\n",
      "  0.09441575  0.09800483  0.10072621]\n",
      "[ 0.1  0.1  0.1  0.1  0.1  0.1  0.1  0.1  0.1  0.1]\n",
      "[[ 0.00453138  0.16689007  0.01384695 -0.0578112  -0.1122089  -0.02734813\n",
      "  -0.07730881  0.12856545 -0.00265025 -0.00322343]\n",
      " [-0.03676954 -0.01936323  0.03572293 -0.0823148   0.0290716  -0.03173323\n",
      "  -0.16423994  0.07955027 -0.03516648 -0.00861855]]\n",
      "[[ 0.00453138  0.16689007  0.01384695 -0.0578112  -0.1122089  -0.02734813\n",
      "  -0.07730881  0.12856545 -0.00265025]\n",
      " [-0.03676954 -0.01936323  0.03572293 -0.0823148   0.0290716  -0.03173323\n",
      "  -0.16423994  0.07955027 -0.03516648]]\n"
     ]
    }
   ],
   "source": [
    "# assign values from learned 9 neurons to the output layer \n",
    "#of transfer learning matrix on 10 classes\n",
    "sess.run(W_fc2_10[:,:9].assign(W_fc2))\n",
    "print(sess.run(b_fc2[:30]))\n",
    "print(sess.run(b_fc2_10[:30]))\n",
    "print(sess.run(W_fc2_10)[:2,:])\n",
    "print(sess.run(W_fc2)[:2,:])"
   ]
  },
  {
   "cell_type": "markdown",
   "metadata": {},
   "source": [
    "# Transfer learning from classifier on 9 classes to classifier on 10 classes"
   ]
  },
  {
   "cell_type": "code",
   "execution_count": 8,
   "metadata": {},
   "outputs": [
    {
     "name": "stdout",
     "output_type": "stream",
     "text": [
      "=================================\n",
      "|    Training for 10 classes     |\n",
      "|Epoch\tBatch\t|Train\t|Val\t|\n",
      "|===============================|\n",
      "|1\t|50\t|0.9100\t|0.8892\t|\n",
      "|1\t|100\t|0.8900\t|0.8892\t|\n",
      "|1\t|150\t|0.8900\t|0.8956\t|\n",
      "|1\t|200\t|0.8700\t|0.9058\t|\n",
      "|1\t|250\t|0.9200\t|0.9212\t|\n",
      "|1\t|300\t|0.9400\t|0.9300\t|\n",
      "|1\t|350\t|0.9100\t|0.9378\t|\n",
      "|1\t|400\t|0.9700\t|0.9418\t|\n",
      "|1\t|450\t|0.9700\t|0.9472\t|\n",
      "|1\t|500\t|0.9400\t|0.9520\t|\n",
      "|1\t|550\t|0.9600\t|0.9574\t|\n",
      "|2\t|50\t|0.9800\t|0.9594\t|\n",
      "|2\t|100\t|0.9700\t|0.9606\t|\n",
      "|2\t|150\t|0.9700\t|0.9606\t|\n",
      "|2\t|200\t|0.9500\t|0.9638\t|\n",
      "|2\t|250\t|0.9700\t|0.9654\t|\n",
      "|2\t|300\t|0.9600\t|0.9670\t|\n",
      "|2\t|350\t|0.9800\t|0.9684\t|\n",
      "|2\t|400\t|0.9600\t|0.9692\t|\n",
      "|2\t|450\t|0.9800\t|0.9700\t|\n",
      "|2\t|500\t|0.9600\t|0.9696\t|\n",
      "|2\t|550\t|0.9700\t|0.9700\t|\n",
      "|3\t|50\t|0.9600\t|0.9700\t|\n",
      "|3\t|100\t|0.9500\t|0.9698\t|\n",
      "|3\t|150\t|0.9600\t|0.9710\t|\n",
      "|3\t|200\t|0.9600\t|0.9706\t|\n",
      "|3\t|250\t|0.9800\t|0.9714\t|\n",
      "|3\t|300\t|0.9700\t|0.9718\t|\n",
      "|3\t|350\t|0.9700\t|0.9724\t|\n",
      "|3\t|400\t|0.9700\t|0.9728\t|\n",
      "|3\t|450\t|0.9700\t|0.9722\t|\n",
      "|3\t|500\t|0.9800\t|0.9728\t|\n",
      "|3\t|550\t|0.9600\t|0.9728\t|\n",
      "|4\t|50\t|0.9900\t|0.9734\t|\n",
      "|4\t|100\t|0.9700\t|0.9734\t|\n",
      "|4\t|150\t|0.9700\t|0.9732\t|\n",
      "|4\t|200\t|0.9900\t|0.9742\t|\n",
      "|4\t|250\t|0.9900\t|0.9744\t|\n",
      "|4\t|300\t|0.9500\t|0.9744\t|\n",
      "|4\t|350\t|0.9800\t|0.9746\t|\n",
      "|4\t|400\t|0.9800\t|0.9738\t|\n",
      "|4\t|450\t|0.9900\t|0.9744\t|\n",
      "|4\t|500\t|1.0000\t|0.9746\t|\n",
      "|4\t|550\t|0.9600\t|0.9744\t|\n",
      "|5\t|50\t|0.9900\t|0.9750\t|\n",
      "|5\t|100\t|1.0000\t|0.9746\t|\n",
      "|5\t|150\t|0.9800\t|0.9750\t|\n",
      "|5\t|200\t|0.9500\t|0.9750\t|\n",
      "|5\t|250\t|0.9700\t|0.9756\t|\n",
      "|5\t|300\t|0.9900\t|0.9754\t|\n",
      "|5\t|350\t|1.0000\t|0.9764\t|\n",
      "|5\t|400\t|0.9900\t|0.9758\t|\n",
      "|5\t|450\t|0.9700\t|0.9760\t|\n",
      "|5\t|500\t|0.9700\t|0.9762\t|\n",
      "|5\t|550\t|0.9700\t|0.9762\t|\n",
      "|6\t|50\t|0.9900\t|0.9766\t|\n",
      "|6\t|100\t|1.0000\t|0.9768\t|\n",
      "|6\t|150\t|0.9500\t|0.9766\t|\n",
      "|6\t|200\t|0.9800\t|0.9766\t|\n",
      "|6\t|250\t|0.9800\t|0.9768\t|\n",
      "|6\t|300\t|0.9700\t|0.9768\t|\n",
      "|6\t|350\t|0.9600\t|0.9772\t|\n",
      "|6\t|400\t|0.9900\t|0.9768\t|\n",
      "|6\t|450\t|0.9700\t|0.9772\t|\n",
      "|6\t|500\t|0.9900\t|0.9770\t|\n",
      "|6\t|550\t|0.9700\t|0.9774\t|\n",
      "|7\t|50\t|1.0000\t|0.9776\t|\n",
      "|7\t|100\t|0.9900\t|0.9780\t|\n",
      "|7\t|150\t|0.9600\t|0.9778\t|\n",
      "|7\t|200\t|0.9800\t|0.9778\t|\n",
      "|7\t|250\t|0.9700\t|0.9784\t|\n",
      "|7\t|300\t|0.9700\t|0.9782\t|\n",
      "|7\t|350\t|0.9900\t|0.9782\t|\n",
      "|7\t|400\t|0.9800\t|0.9784\t|\n",
      "|7\t|450\t|0.9600\t|0.9784\t|\n",
      "|7\t|500\t|0.9500\t|0.9786\t|\n",
      "|7\t|550\t|0.9700\t|0.9790\t|\n",
      "|8\t|50\t|1.0000\t|0.9784\t|\n",
      "|8\t|100\t|0.9800\t|0.9788\t|\n",
      "|8\t|150\t|0.9700\t|0.9786\t|\n",
      "|8\t|200\t|0.9700\t|0.9788\t|\n",
      "|8\t|250\t|0.9600\t|0.9790\t|\n",
      "|8\t|300\t|0.9600\t|0.9788\t|\n",
      "|8\t|350\t|1.0000\t|0.9798\t|\n",
      "|8\t|400\t|0.9800\t|0.9798\t|\n",
      "|8\t|450\t|0.9900\t|0.9794\t|\n",
      "|8\t|500\t|0.9800\t|0.9794\t|\n",
      "|8\t|550\t|0.9900\t|0.9794\t|\n",
      "|===============================|\n",
      "test accuracy=0.9788\n"
     ]
    }
   ],
   "source": [
    "print(\"=================================\")\n",
    "print(\"|    Training for 10 classes    |\")\n",
    "print(\"|Epoch\\tBatch\\t|Train\\t|Val\\t|\")\n",
    "print(\"|===============================|\")\n",
    "for j in range(8):\n",
    "    for i in range(550):\n",
    "        batch = mnist.train.next_batch(batch_size)\n",
    "        train_step_10.run(feed_dict={x: batch[0], y_: batch[1], \\\n",
    "                                     keep_prob:0.7})\n",
    "        if i%50 == 49:\n",
    "            train_accuracy = accuracy_10.eval(feed_dict={x:batch[0],\\\n",
    "                                                y_: batch[1], keep_prob:1})\n",
    "            val_accuracy = accuracy_10.eval(feed_dict=\\\n",
    "                {x: mnist.validation.images, y_:mnist.validation.labels, \\\n",
    "                                                     keep_prob:1})\n",
    "            print(\"|%d\\t|%d\\t|%.4f\\t|%.4f\\t|\"%(j+1, i+1, train_accuracy, \\\n",
    "                                                       val_accuracy))\n",
    "print(\"|===============================|\")\n",
    "test_accuracy = accuracy_10.eval(feed_dict=\\\n",
    "    {x: mnist.test.images, y_:mnist.test.labels, keep_prob:1})\n",
    "print(\"test accuracy=%.4f\"%(test_accuracy))"
   ]
  },
  {
   "cell_type": "markdown",
   "metadata": {},
   "source": [
    "# Interpretation of the Results\n",
    "\n",
    "It is quite impressive that just by training the output layer network's accuracy on classifying 10 digits grew from 88% to 97.94% (on validation dataset), so indeed the network learned how to classify a new unseen digit before.\n",
    "\n",
    "However the final test accuracy on the transfer learning for 10 classes is 97.88% which is good but not as high as it could be while all layers are trained 98.5%.\n",
    "\n",
    "We can make a conclusion that learning just weights from a final layer and trasfering weights on previous layers from classifier on 9 classes, is not absolutely enough and some useful modifications, which are made in the convolution layer and first fully connected layer while the model is trained on 10 digits without transfer learning, are useful for improving the performance of the classifier."
   ]
  }
 ],
 "metadata": {
  "kernelspec": {
   "display_name": "Python 2",
   "language": "python",
   "name": "python2"
  },
  "language_info": {
   "codemirror_mode": {
    "name": "ipython",
    "version": 2
   },
   "file_extension": ".py",
   "mimetype": "text/x-python",
   "name": "python",
   "nbconvert_exporter": "python",
   "pygments_lexer": "ipython2",
   "version": "2.7.13"
  }
 },
 "nbformat": 4,
 "nbformat_minor": 2
}
